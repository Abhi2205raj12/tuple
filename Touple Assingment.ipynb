{
 "cells": [
  {
   "cell_type": "markdown",
   "id": "659090b6-9fbc-4338-ab05-26e3bc8ce30d",
   "metadata": {},
   "source": [
    "# Ques 1: What is a tuple in python? "
   ]
  },
  {
   "cell_type": "markdown",
   "id": "23ae2ec0-bf5f-48e7-8dc6-46b9c61d6ee2",
   "metadata": {},
   "source": [
    "Answer: Tuples are used to store multiple items in a single variable.\n",
    "\n",
    "Tuple is one of 4 built-in data types in Python used to store collections of data, the other 3 are List, Set, and Dictionary, all with different qualities and usage.\n",
    "\n",
    "A tuple is a collection which is ordered and unchangeable.\n",
    "\n",
    "Tuples are written with round brackets."
   ]
  },
  {
   "cell_type": "markdown",
   "id": "9a79f701-1e64-407f-b0c7-37b794281104",
   "metadata": {},
   "source": [
    "# Ques 2: How do you create a tuple in python?"
   ]
  },
  {
   "cell_type": "markdown",
   "id": "d2afaecc-2f21-4fad-ac2e-6451b97963b3",
   "metadata": {},
   "source": [
    "Answer: A tuple is created by placing all the items (elements) inside parentheses (), separated by commas. The parentheses are optional, however, it is a good practice to use them.\n",
    "\n",
    "A tuple can have any number of items and they may be of different types (integer, float, list, string, etc.)."
   ]
  },
  {
   "cell_type": "code",
   "execution_count": 1,
   "id": "0784c224-78b9-4596-b811-eacd9df0c8f1",
   "metadata": {},
   "outputs": [],
   "source": [
    "t=()"
   ]
  },
  {
   "cell_type": "code",
   "execution_count": 2,
   "id": "2fee58b0-c78c-4d15-a3dd-c01c2cae028f",
   "metadata": {},
   "outputs": [
    {
     "data": {
      "text/plain": [
       "tuple"
      ]
     },
     "execution_count": 2,
     "metadata": {},
     "output_type": "execute_result"
    }
   ],
   "source": [
    "type(t)"
   ]
  },
  {
   "cell_type": "markdown",
   "id": "eaff91b6-2d16-4b18-84fe-efdf7c628a53",
   "metadata": {},
   "source": [
    "# Ques 3: What is the difference between a tuple and a list in Python?"
   ]
  },
  {
   "cell_type": "markdown",
   "id": "77f0d21f-6a20-4c29-8d38-eccc765940f0",
   "metadata": {},
   "source": [
    "Answer: The primary difference between tuples and lists is that tuples are immutable as opposed to lists which are mutable. Therefore, it is possible to change a list but not a tuple.\n",
    "\n",
    "The contents of a tuple cannot change once they have been created in Python due to the immutability of tuples.\n",
    "\n",
    "There is no way to keep changing tuples. Error message if you attempt to change one of the items."
   ]
  },
  {
   "cell_type": "markdown",
   "id": "840d3383-e67a-4e96-a6f1-2e8f28c37ab1",
   "metadata": {},
   "source": [
    "# Ques 4: Can a tuple be changed in python?"
   ]
  },
  {
   "cell_type": "markdown",
   "id": "da678372-0f83-420b-982a-af96f9316941",
   "metadata": {},
   "source": [
    "Answer: Once a tuple is created, you cannot change its values. Tuples are unchangeable, or immutable as it also is called.\n",
    "\n",
    "But there is a workaround. You can convert the tuple into a list, change the list, and convert the list back into a tuple."
   ]
  },
  {
   "cell_type": "markdown",
   "id": "9e7357ee-089e-4d6d-9d1d-f5ffa8e3acab",
   "metadata": {},
   "source": [
    "# Ques 5: How do you access element in a tuple?"
   ]
  },
  {
   "cell_type": "markdown",
   "id": "8184a96f-ca1f-4595-8f7e-bf4cf2d824bf",
   "metadata": {},
   "source": [
    "Answer: You can access tuple items by referring to the index number, inside square brackets:\n",
    "        \n",
    "        Example"
   ]
  },
  {
   "cell_type": "code",
   "execution_count": 3,
   "id": "b6c65a5d-104b-478f-bb03-a9535a15016e",
   "metadata": {},
   "outputs": [],
   "source": [
    "t=('abhi',1,True,'RAJ')"
   ]
  },
  {
   "cell_type": "code",
   "execution_count": 4,
   "id": "2a400eec-6e50-4e5d-88ee-d7b0df948d21",
   "metadata": {},
   "outputs": [
    {
     "data": {
      "text/plain": [
       "True"
      ]
     },
     "execution_count": 4,
     "metadata": {},
     "output_type": "execute_result"
    }
   ],
   "source": [
    "t[2]"
   ]
  },
  {
   "cell_type": "markdown",
   "id": "425655f7-3119-4573-9d48-47e5f93a1288",
   "metadata": {},
   "source": [
    "# Ques 6: How do you unpack a tuple in python?"
   ]
  },
  {
   "cell_type": "markdown",
   "id": "4756a179-d5b8-46cf-92a5-c1a847762dc5",
   "metadata": {
    "tags": []
   },
   "source": [
    "# Unpacking a Tuple\n",
    "\n",
    "When we create a tuple, we normally assign values to it. This is called \"packing\" a tuple:\n",
    "\n",
    "Example:"
   ]
  },
  {
   "cell_type": "code",
   "execution_count": 8,
   "id": "9bd08abf-338d-428d-9bca-19d8ce36583e",
   "metadata": {},
   "outputs": [],
   "source": [
    "t1=('Tushar',4,5,5.5,'Rajput')"
   ]
  },
  {
   "cell_type": "code",
   "execution_count": 9,
   "id": "b483aa06-fa8c-4c80-9e6c-d625cb0e2b4f",
   "metadata": {},
   "outputs": [
    {
     "data": {
      "text/plain": [
       "('Tushar', 4, 5, 5.5, 'Rajput')"
      ]
     },
     "execution_count": 9,
     "metadata": {},
     "output_type": "execute_result"
    }
   ],
   "source": [
    "t1"
   ]
  },
  {
   "cell_type": "markdown",
   "id": "472d8b26-9c74-4f8e-8476-49f6a792974e",
   "metadata": {},
   "source": [
    "But, in Python, we are also allowed to extract the values back into variables. This is called \"unpacking\":\n",
    "\n",
    "Example :"
   ]
  },
  {
   "cell_type": "code",
   "execution_count": null,
   "id": "3ccffda1-08a0-4948-8dcb-7f90a5863a27",
   "metadata": {},
   "outputs": [],
   "source": []
  }
 ],
 "metadata": {
  "kernelspec": {
   "display_name": "Python 3 (ipykernel)",
   "language": "python",
   "name": "python3"
  },
  "language_info": {
   "codemirror_mode": {
    "name": "ipython",
    "version": 3
   },
   "file_extension": ".py",
   "mimetype": "text/x-python",
   "name": "python",
   "nbconvert_exporter": "python",
   "pygments_lexer": "ipython3",
   "version": "3.10.8"
  }
 },
 "nbformat": 4,
 "nbformat_minor": 5
}
